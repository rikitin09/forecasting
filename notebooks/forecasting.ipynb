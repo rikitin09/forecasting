{
 "cells": [
  {
   "cell_type": "code",
   "execution_count": null,
   "metadata": {},
   "outputs": [],
   "source": [
    "import pandas as pd\n",
    "import numpy as np\n",
    "import matplotlib\n",
    "import matplotlib.pyplot as plt\n",
    "from fbprophet import Prophet\n",
    "from fbprophet.plot import add_changepoints_to_plot\n",
    "from fbprophet.plot import plot_cross_validation_metric\n",
    "from fbprophet.diagnostics import cross_validation\n",
    "from fbprophet.diagnostics import performance_metrics\n",
    "import itertools\n",
    "from statsmodels.tsa.holtwinters import ExponentialSmoothing\n",
    "from sklearn.model_selection import TimeSeriesSplit"
   ]
  },
  {
   "cell_type": "code",
   "execution_count": null,
   "metadata": {},
   "outputs": [],
   "source": [
    "np.random.seed(101)\n",
    "\n",
    "# Read in data\n",
    "cols = ['Date','Price']\n",
    "df = pd.read_excel('forecasting_take_home_data.xlsx', names=cols, parse_dates=True, skiprows=11)"
   ]
  },
  {
   "cell_type": "code",
   "execution_count": null,
   "metadata": {},
   "outputs": [],
   "source": [
    "df.info()"
   ]
  },
  {
   "cell_type": "code",
   "execution_count": null,
   "metadata": {
    "scrolled": true
   },
   "outputs": [],
   "source": [
    "df.head()"
   ]
  },
  {
   "cell_type": "code",
   "execution_count": null,
   "metadata": {},
   "outputs": [],
   "source": [
    "# Visual inspection\n",
    "plt.figure(figsize=(10,5))\n",
    "plt.title('Gas prices over time ($)')\n",
    "plt.xlabel(str(df.columns[0]))\n",
    "plt.ylabel(str(df.columns[1]))\n",
    "plt.axhline(y=np.mean(df.iloc[:,1]), color='g', linestyle='--', label='Mean')\n",
    "plt.legend(loc='upper left')\n",
    "plt.plot(df[df.columns[0]], df[df.columns[1]])\n",
    "plt.show()"
   ]
  },
  {
   "cell_type": "code",
   "execution_count": null,
   "metadata": {},
   "outputs": [],
   "source": [
    "def train_test_split(df, months):\n",
    "    train_df = df.iloc[:-months]\n",
    "    test_df = df.iloc[-months:]\n",
    "    return train_df, test_df\n",
    "\n",
    "def prepare_prophet(df):\n",
    "    df = df.rename(columns={df.columns[0]: 'ds', df.columns[1]: 'y'})\n",
    "    return df\n",
    "\n",
    "def run_cv(df, grid, init, hor):\n",
    "    # Generate all combinations of parameters\n",
    "    all_params = [dict(zip(param_grid.keys(), v)) for v in itertools.product(*param_grid.values())]\n",
    "    scores = pd.DataFrame()\n",
    "\n",
    "    # Use cross validation to evaluate all parameters\n",
    "    for params in all_params:\n",
    "        m = Prophet(**params).fit(df)  # Fit model with given params\n",
    "        df_cv = cross_validation(m, initial='{} days'.format(init), period='{} days'.format(hor), horizon = '{} days'.format(hor), parallel=\"processes\")\n",
    "        df_p = performance_metrics(df_cv, rolling_window=1)\n",
    "        scores = scores.append(df_p)\n",
    "\n",
    "    # Find the best parameters\n",
    "    tuning_results = pd.concat([pd.DataFrame(all_params).reset_index(drop=True), scores.reset_index(drop=True)],axis=1)\n",
    "    print(tuning_results)\n",
    "    best_params = all_params[np.argmin(tuning_results['rmse'])]\n",
    "    return best_params\n",
    "\n",
    "def predict_months(model, months):\n",
    "    future = model.make_future_dataframe(periods=months, freq='MS') # Month starting dates\n",
    "    forecast = model.predict(future)\n",
    "    fig = model.plot(forecast)\n",
    "    return forecast\n",
    "\n",
    "def get_best_forecast(df, months, param_grid, initial, horizon):\n",
    "    # Finding best parameters over training set using expanding window CV with initial training of 3 years\n",
    "    # and 1 year horizons (12 predictions for each expansion * (25-3) years = 264 total predictions evaluated)\n",
    "    # Best parameters are those with lowest RMSE over all 264 predicted to test value comparisons\n",
    "    params = run_cv(df, param_grid, initial, horizon)\n",
    "\n",
    "    # Train model and get predictions for test set comparison\n",
    "    model = Prophet(**params).fit(df)\n",
    "    forecast = predict_months(model, months)\n",
    "    return model, forecast\n",
    "\n",
    "def rmse(predictions, targets):\n",
    "    return np.sqrt(np.mean((predictions - targets) ** 2))"
   ]
  },
  {
   "cell_type": "code",
   "execution_count": null,
   "metadata": {
    "scrolled": false
   },
   "outputs": [],
   "source": [
    "# Months to predict into the future\n",
    "months = 12\n",
    "\n",
    "# Data prep\n",
    "df = prepare_prophet(df)\n",
    "train_df, test_df = train_test_split(df, months)\n",
    "\n",
    "param_grid = {  \n",
    "    'changepoint_prior_scale': [0.05, 0.1, 0.5, 1, 10],\n",
    "    'seasonality_prior_scale': [0.01, 1, 10],\n",
    "    'changepoint_range': [0.95]\n",
    "}\n",
    "\n",
    "model, forecast = get_best_forecast(train_df, months, param_grid, 3*365, 365)"
   ]
  },
  {
   "cell_type": "code",
   "execution_count": null,
   "metadata": {},
   "outputs": [],
   "source": [
    "# Looking at Full Prophet performance graphically\n",
    "predictions = forecast['yhat'].iloc[-months:]\n",
    "full_err = rmse(predictions, test_df['y'])\n",
    "\n",
    "plt.figure(figsize=(10,5))\n",
    "plt.title(\"RMSE {}\".format(full_err))\n",
    "plt.ylabel('Price($)')\n",
    "plt.xlabel('Months since January 1992')\n",
    "plt.plot(train_df['y'], label='Train set')\n",
    "plt.plot(test_df['y'], label='Test set')\n",
    "plt.plot(predictions, label='Prophet Prediction', linestyle='--')\n",
    "plt.legend(loc='upper left')\n",
    "plt.show()"
   ]
  },
  {
   "cell_type": "code",
   "execution_count": null,
   "metadata": {
    "scrolled": false
   },
   "outputs": [],
   "source": [
    "# Months to predict into the future\n",
    "months = 12\n",
    "\n",
    "# Data prep\n",
    "df = prepare_prophet(df)\n",
    "train_df, test_df = train_test_split(df, months)\n",
    "\n",
    "# Training on just last 8 years\n",
    "train_df = train_df.loc[(train_df['ds'] >= '2009-01-01')]\n",
    "\n",
    "# Cross validation search grid\n",
    "param_grid = {  \n",
    "    'changepoint_prior_scale': [0.05, 0.1, 0.5, 1, 10],\n",
    "    'seasonality_prior_scale': [0.01, 1, 10],\n",
    "    'changepoint_range': [0.95]\n",
    "}\n",
    "\n",
    "model, forecast = get_best_forecast(train_df, months, param_grid, 3*365, 365)"
   ]
  },
  {
   "cell_type": "code",
   "execution_count": null,
   "metadata": {},
   "outputs": [],
   "source": [
    "# Getting RMSE of full model w/ best parameters for last 60 month predictions\n",
    "months=12\n",
    "\n",
    "df = prepare_prophet(df)\n",
    "train_df, test_df = train_test_split(df, months)\n",
    "\n",
    "m = Prophet(changepoint_prior_scale=0.5, seasonality_prior_scale=0.01, changepoint_range= 0.95).fit(train_df)\n",
    "df_cv = cross_validation(m, initial='1095 days', period='365 days', horizon = '365 days', parallel=\"processes\")\n",
    "\n",
    "df_cv = df_cv.loc[(df_cv['ds'] >= '2012-02-01')]\n",
    "print(\"RMSE of full model for last 5 years: \" + str(rmse(df_cv['yhat'], df_cv['y'])))"
   ]
  },
  {
   "cell_type": "code",
   "execution_count": null,
   "metadata": {},
   "outputs": [],
   "source": [
    "# Looking at Subset Prophet performance graphically\n",
    "predictions = forecast['yhat'].iloc[-months:]\n",
    "predictions.index = test_df.index\n",
    "full_err = rmse(predictions, test_df['y'])\n",
    "\n",
    "train_df, test_df = train_test_split(df, months)\n",
    "\n",
    "plt.figure(figsize=(10,5))\n",
    "plt.title(\"RMSE {}\".format(full_err))\n",
    "plt.ylabel('Price($)')\n",
    "plt.xlabel('Months since January 1992')\n",
    "plt.plot(train_df['y'], label='Train set')\n",
    "plt.plot(test_df['y'], label='Test set')\n",
    "plt.plot(predictions, label='Subset Prophet', linestyle='--')\n",
    "plt.legend(loc='upper left')\n",
    "plt.show()"
   ]
  },
  {
   "cell_type": "code",
   "execution_count": null,
   "metadata": {},
   "outputs": [],
   "source": [
    "# Exponential Smoothing\n",
    "\n",
    "months=12\n",
    "\n",
    "df = prepare_prophet(df)\n",
    "train_df, test_df = train_test_split(df, months)\n",
    "\n",
    "expModel = ExponentialSmoothing(np.array(train_df['y']), trend='add', seasonal='add', seasonal_periods=12).fit()\n",
    "expForecast = expModel.predict(start=test_df.index[0], end=test_df.index[-1])\n",
    "expForecast = pd.DataFrame(expForecast, index=test_df.index)\n",
    "\n",
    "exp_err = rmse(expForecast.iloc[:,0], test_df['y'])\n",
    "\n",
    "plt.figure(figsize=(10,5))\n",
    "plt.title(\"RMSE: {}\".format(exp_err))\n",
    "plt.plot(train_df['y'], label='Train set')\n",
    "plt.plot(test_df['y'], label='Test set')\n",
    "plt.plot(expForecast, label='Exponential Smoothing', linestyle='--')\n",
    "plt.legend(loc='upper left')\n",
    "plt.show()"
   ]
  },
  {
   "cell_type": "code",
   "execution_count": null,
   "metadata": {},
   "outputs": [],
   "source": [
    "# Backtesting Exponential Smoothing\n",
    "tscv = TimeSeriesSplit(24)\n",
    "\n",
    "train_df, test_df = train_test_split(df, months)\n",
    "preds = []\n",
    "errs = []\n",
    "for train_index, test_index in tscv.split(train_df):\n",
    "    #print(\"TRAIN:\", train_index, \"TEST:\", test_index)\n",
    "    y_train, y_test = train_df['y'][train_index], train_df['y'][test_index]\n",
    "    expModel = ExponentialSmoothing(y_train, trend='add', seasonal='add', seasonal_periods=12).fit()\n",
    "    expForecast = expModel.predict(start=y_test.index[0], end=y_test.index[-1])   \n",
    "    preds.append(expForecast)\n",
    "    \n",
    "    exp_err = rmse(expForecast, y_test)\n",
    "    errs.append(exp_err)\n",
    "\n",
    "expModel = ExponentialSmoothing(train_df['y'], trend='add', seasonal='add', seasonal_periods=12).fit()\n",
    "expForecast = expModel.predict(start=test_df.index[0], end=test_df.index[-1])\n",
    "preds.append(expForecast)\n",
    "preds = pd.concat(preds)\n",
    "average_rmse = np.mean(errs)\n",
    "print(\"RMSE over all periods: {}\".format(average_rmse))"
   ]
  },
  {
   "cell_type": "code",
   "execution_count": null,
   "metadata": {},
   "outputs": [],
   "source": [
    "plt.figure(figsize=(10,5))\n",
    "plt.title(\"RMSE: {}\".format(average_rmse))\n",
    "plt.plot(train_df['y'], label='Train set')\n",
    "plt.plot(test_df['y'], label='Test set')\n",
    "plt.plot(preds, label='Exponential Smoothing', linestyle='--')\n",
    "plt.legend(loc='upper left')\n",
    "plt.show()"
   ]
  }
 ],
 "metadata": {
  "kernelspec": {
   "display_name": "Python 3",
   "language": "python",
   "name": "python3"
  },
  "language_info": {
   "codemirror_mode": {
    "name": "ipython",
    "version": 3
   },
   "file_extension": ".py",
   "mimetype": "text/x-python",
   "name": "python",
   "nbconvert_exporter": "python",
   "pygments_lexer": "ipython3",
   "version": "3.7.7"
  }
 },
 "nbformat": 4,
 "nbformat_minor": 4
}
